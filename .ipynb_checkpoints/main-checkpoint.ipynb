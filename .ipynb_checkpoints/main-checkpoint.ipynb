{
 "cells": [
  {
   "cell_type": "code",
   "execution_count": 1,
   "id": "ede75511-00a5-4fcb-b48f-aa777d4b5656",
   "metadata": {
    "scrolled": true
   },
   "outputs": [
    {
     "name": "stderr",
     "output_type": "stream",
     "text": [
      "/var/folders/tb/8wvwh2hs0k17wzfgtw3k6xm80000gn/T/ipykernel_56356/3038457243.py:18: UserWarning: pandas only supports SQLAlchemy connectable (engine/connection) or database string URI or sqlite3 DBAPI2 connection. Other DBAPI2 objects are not tested. Please consider using SQLAlchemy.\n",
      "  ecommerce_df = pd.read_sql(query, conn)\n"
     ]
    },
    {
     "name": "stdout",
     "output_type": "stream",
     "text": [
      "            accessed_date  duration_secs network_protocol             ip  \\\n",
      "0 2017-03-14 17:43:57.172           2533            TCP     1.10.195.126   \n",
      "1 2017-03-14 17:43:57.172           4034            TCP      1.1.217.211   \n",
      "2 2017-03-14 17:43:26.135           1525            TCP    1.115.198.107   \n",
      "3 2017-03-14 17:43:26.135           4572            TCP    1.121.152.143   \n",
      "4 2017-03-14 18:17:09.005           3652            TCP    1.123.135.213   \n",
      "\n",
      "    bytes    accessed_from  age  gender country membership language     sales  \\\n",
      "0   20100           Chrome   28  Female      CA     Normal  English  261.9600   \n",
      "1   20500  Mozilla Firefox   21    Male      AR     Normal  English  731.9400   \n",
      "2   90100  Mozilla Firefox   20    Male      PL     Normal  English   14.6200   \n",
      "3  100300  Mozilla Firefox   66  Female      IN     Normal  Spanish  957.5775   \n",
      "4  270200  Mozilla Firefox   53  Female      KR     Normal  Spanish   22.3680   \n",
      "\n",
      "  returned  returned_amount   pay_method  \n",
      "0       No              0.0  Credit Card  \n",
      "1       No              0.0   Debit Card  \n",
      "2       No              0.0         Cash  \n",
      "3       No              0.0  Credit Card  \n",
      "4       No              0.0         Cash  \n",
      "Adding ddl: \n",
      "CREATE TABLE ecms_data (\n",
      "    accessed_date TIMESTAMP,\n",
      "    duration_secs INT,\n",
      "    network_protocol VARCHAR(10),\n",
      "    ip VARCHAR(15),\n",
      "    bytes INT,\n",
      "    accessed_from VARCHAR(50),\n",
      "    age INT,\n",
      "    gender VARCHAR(10),\n",
      "    country VARCHAR(5),\n",
      "    membership VARCHAR(10),\n",
      "    language VARCHAR(20),\n",
      "    sales DECIMAL(10, 4),\n",
      "    returned VARCHAR(5),\n",
      "    returned_amount DECIMAL(10, 2),\n",
      "    pay_method VARCHAR(20)\n",
      ");\n",
      "\n"
     ]
    },
    {
     "data": {
      "text/plain": [
       "'316585-ddl'"
      ]
     },
     "execution_count": 1,
     "metadata": {},
     "output_type": "execute_result"
    }
   ],
   "source": [
    "import psycopg2\n",
    "import pandas as pd\n",
    "from vanna.remote import VannaDefault\n",
    "\n",
    "api_key = 'a80618c02c1b4f65b35b8d5115676bed'\n",
    "vanna_model_name = 'e-commercetest'\n",
    "vn = VannaDefault(model=vanna_model_name, api_key=api_key)\n",
    "\n",
    "conn = psycopg2.connect(\n",
    "    dbname=\"vanna_rag\",\n",
    "    user=\"berdn70s\",\n",
    "    password=\"123123\",\n",
    "    host=\"localhost\",\n",
    "    port=\"5432\"\n",
    ")\n",
    "\n",
    "query = \"SELECT * FROM ecms_data;\"\n",
    "ecommerce_df = pd.read_sql(query, conn)\n",
    "\n",
    "conn.close()\n",
    "\n",
    "print(ecommerce_df.head())\n",
    "\n",
    "# Burada ddl statement ile train ederken, modele datasetimizin structreini ogretiyoruz aslinda..\n",
    "ddl_statement = \"\"\"\n",
    "CREATE TABLE ecms_data (\n",
    "    accessed_date TIMESTAMP,\n",
    "    duration_secs INT,\n",
    "    network_protocol VARCHAR(10),\n",
    "    ip VARCHAR(15),\n",
    "    bytes INT,\n",
    "    accessed_from VARCHAR(50),\n",
    "    age INT,\n",
    "    gender VARCHAR(10),\n",
    "    country VARCHAR(5),\n",
    "    membership VARCHAR(10),\n",
    "    language VARCHAR(20),\n",
    "    sales DECIMAL(10, 4),\n",
    "    returned VARCHAR(5),\n",
    "    returned_amount DECIMAL(10, 2),\n",
    "    pay_method VARCHAR(20)\n",
    ");\n",
    "\"\"\"\n",
    "\n",
    "vn.train(ddl=ddl_statement)\n",
    "\n",
    "\n"
   ]
  },
  {
   "cell_type": "code",
   "execution_count": 2,
   "id": "3f9a5f9c-4e9a-4e32-b5df-28758c5712cc",
   "metadata": {},
   "outputs": [
    {
     "name": "stdout",
     "output_type": "stream",
     "text": [
      "Question generated with sql: 1. What is the distribution of data by country?\n",
      "2. What is the total sales amount per payment method for non-returned items? \n",
      "Adding SQL...\n"
     ]
    },
    {
     "data": {
      "text/plain": [
       "'2a3b46699dff89adecb8ef85b02c8679-sql'"
      ]
     },
     "execution_count": 2,
     "metadata": {},
     "output_type": "execute_result"
    }
   ],
   "source": [
    "# Modeli sql queryleri ile egitirken  \"SELECT * from ecmcs_data\" gibi basit querylerle egitmek yerine\n",
    "# Dataset hakkinda daha cok bilgi edinebilecegi asagidaki query gibi sql queryleri ile egitmemiz gerekiyor.\n",
    "sample_sql = \"\"\"\n",
    "SELECT country, COUNT(*) FROM ecms_data GROUP BY country;\n",
    "SELECT pay_method, SUM(sales) FROM ecms_data WHERE returned = 'no' GROUP BY pay_method;\n",
    "\"\"\"\n",
    "vn.train(sql=sample_sql)\n"
   ]
  },
  {
   "cell_type": "code",
   "execution_count": 3,
   "id": "74255523-d4a2-4957-9a7d-2c5e576b6d4a",
   "metadata": {},
   "outputs": [
    {
     "data": {
      "text/plain": [
       "'46e452793a2bdae69e2ea33ed16b8e8d-sql'"
      ]
     },
     "execution_count": 3,
     "metadata": {},
     "output_type": "execute_result"
    }
   ],
   "source": [
    "#Hem soruyu verip hem cevabi koymak, modeli egitmenin en direkt, efektif ve faydali yolu.\n",
    "vn.train(\n",
    "    question=\"What is the average sales of our customers?\", \n",
    "    sql=\"SELECT AVG(sales) FROM customers\"\n",
    ")"
   ]
  },
  {
   "cell_type": "code",
   "execution_count": null,
   "id": "35243e6e-f536-4d47-ac06-d5369b2d788f",
   "metadata": {},
   "outputs": [
    {
     "name": "stdout",
     "output_type": "stream",
     "text": [
      "Your app is running at:\n",
      "http://localhost:8084\n",
      " * Serving Flask app 'vanna.flask'\n",
      " * Debug mode: on\n",
      "{}\n",
      "{}\n",
      "{}\n",
      "[{'function_name': 'get_most_common_network_protocol', 'description': 'What is the most common network protocol?', 'post_processing_code_template': '', 'arguments': [], 'sql_template': 'SELECT DISTINCT network_protocol FROM ecms_data;'}]\n",
      "old_function_name get_most_common_network_protocol\n",
      "updated_function {'arguments': [], 'description': 'What is the most common network protocol?', 'function_name': 'get_most_common_network_protocol', 'post_processing_code_template': '', 'sql_template': 'SELECT DISTINCT network_protocol FROM ecms_data;'}\n",
      "variables {'input': {'old_function_name': 'get_most_common_network_protocol', 'arguments': [], 'description': 'What is the most common network protocol?', 'function_name': 'get_most_common_network_protocol', 'post_processing_code_template': '', 'sql_template': 'SELECT DISTINCT network_protocol FROM ecms_data;'}}\n"
     ]
    }
   ],
   "source": [
    "\n",
    "from vanna.flask import VannaFlaskApp\n",
    "vn.connect_to_postgres(host='localhost', dbname='vanna_rag', user='berdn70s', password='123123', port='5432')\n",
    "app = VannaFlaskApp(vn,allow_llm_to_see_data=True)\n",
    "app.run()"
   ]
  },
  {
   "cell_type": "code",
   "execution_count": null,
   "id": "7cdc71d6-d179-4dbf-b804-0fd8722f3f97",
   "metadata": {},
   "outputs": [],
   "source": []
  }
 ],
 "metadata": {
  "kernelspec": {
   "display_name": "Python 3 (ipykernel)",
   "language": "python",
   "name": "python3"
  },
  "language_info": {
   "codemirror_mode": {
    "name": "ipython",
    "version": 3
   },
   "file_extension": ".py",
   "mimetype": "text/x-python",
   "name": "python",
   "nbconvert_exporter": "python",
   "pygments_lexer": "ipython3",
   "version": "3.10.0"
  }
 },
 "nbformat": 4,
 "nbformat_minor": 5
}
